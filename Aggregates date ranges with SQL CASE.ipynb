{
 "cells": [
  {
   "cell_type": "markdown",
   "metadata": {},
   "source": [
    "## Programatically write SQL Statements to fill NULL values\n",
    "\n",
    "Using Jinja2 package to programatically write SQL case statements to fill na values"
   ]
  },
  {
   "cell_type": "code",
   "execution_count": 1,
   "metadata": {
    "collapsed": true
   },
   "outputs": [],
   "source": [
    "import json\n",
    "from jinja2 import Template, FileSystemLoader, Environment\n",
    "import sqlparse\n",
    "import string\n",
    "\n",
    "file_loader = FileSystemLoader('templates')\n",
    "env = Environment(loader=file_loader)"
   ]
  },
  {
   "cell_type": "code",
   "execution_count": 2,
   "metadata": {
    "collapsed": true
   },
   "outputs": [],
   "source": [
    "dates = [('2018-01-01','2018-01-30'),\n",
    "        ('2018-02-01','2018-02-30'),\n",
    "        ('2018-03-01','2018-03-30')]"
   ]
  },
  {
   "cell_type": "code",
   "execution_count": 3,
   "metadata": {
    "collapsed": true
   },
   "outputs": [],
   "source": [
    "template = env.get_template('date_aggregates_union.sql')\n",
    "query = template.render(dates=dates)"
   ]
  },
  {
   "cell_type": "code",
   "execution_count": 4,
   "metadata": {},
   "outputs": [
    {
     "name": "stdout",
     "output_type": "stream",
     "text": [
      "\n",
      "SELECT COUNT(id) AS number_active_accounts,\n",
      "       department AS department,\n",
      "       2018-01-30 AS timeperiod\n",
      "FROM TABLE\n",
      "WHERE ((start_date < 2018-01-30)\n",
      "  AND ((isnull(end_date)\n",
      "        OR (end_date > 2018-01-01))\n",
      "       AND (COLUMN = value))\n",
      "GROUP BY department\n",
      "UNION\n",
      "SELECT COUNT(id) AS number_active_accounts,\n",
      "       department AS department,\n",
      "       2018-02-30 AS timeperiod\n",
      "FROM TABLE\n",
      "WHERE ((start_date < 2018-02-30)\n",
      "  AND ((isnull(end_date)\n",
      "        OR (end_date > 2018-02-01))\n",
      "       AND (COLUMN = value))\n",
      "GROUP BY department\n",
      "UNION\n",
      "SELECT COUNT(id) AS number_active_accounts,\n",
      "       department AS department,\n",
      "       2018-03-30 AS timeperiod\n",
      "FROM TABLE\n",
      "WHERE ((start_date < 2018-03-30)\n",
      "  AND ((isnull(end_date)\n",
      "        OR (end_date > 2018-03-01))\n",
      "       AND (COLUMN = value))\n",
      "GROUP BY department\n",
      "UNION\n"
     ]
    }
   ],
   "source": [
    "pretty_sql = sqlparse.format(query,\n",
    "                reindent=True, \n",
    "                keyword_case='upper', \n",
    "                encoding='utf-8')\n",
    "\n",
    "print(pretty_sql)"
   ]
  }
 ],
 "metadata": {
  "kernelspec": {
   "display_name": "Python [conda root]",
   "language": "python",
   "name": "conda-root-py"
  },
  "language_info": {
   "codemirror_mode": {
    "name": "ipython",
    "version": 3
   },
   "file_extension": ".py",
   "mimetype": "text/x-python",
   "name": "python",
   "nbconvert_exporter": "python",
   "pygments_lexer": "ipython3",
   "version": "3.5.3"
  }
 },
 "nbformat": 4,
 "nbformat_minor": 2
}
