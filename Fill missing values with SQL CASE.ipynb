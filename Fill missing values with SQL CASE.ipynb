{
 "cells": [
  {
   "cell_type": "markdown",
   "metadata": {},
   "source": [
    "## Programatically write SQL Statements to fill NULL values\n",
    "\n",
    "Using Jinja2 package to programatically write SQL case statements to fill na values.\n",
    "\n",
    "Inspired by Stitchfix Engineering article: https://multithreaded.stitchfix.com/blog/2017/07/06/one-weird-trick/"
   ]
  },
  {
   "cell_type": "code",
   "execution_count": 1,
   "metadata": {
    "collapsed": true
   },
   "outputs": [],
   "source": [
    "import json\n",
    "from jinja2 import Template, FileSystemLoader, Environment\n",
    "import sqlparse\n",
    "import string\n",
    "\n",
    "file_loader = FileSystemLoader('templates')\n",
    "env = Environment(loader=file_loader)"
   ]
  },
  {
   "cell_type": "code",
   "execution_count": 2,
   "metadata": {
    "collapsed": true
   },
   "outputs": [],
   "source": [
    "column_name_dict = [{\"col_name\": \"height\",\n",
    "                \"fill_na\": True,\n",
    "                \"na_value\": 70},\n",
    "              {\"col_name\": \"is_male\",\n",
    "                \"fill_na\":False,\n",
    "                \"na_value\": 0.5},\n",
    "             {\"col_name\": \"weight\",\n",
    "              \"fill_na\": True,\n",
    "               \"na_value\": 150},\n",
    "             {\"col_name\": \"age\"},\n",
    "             {\"col_name\": \"eye_color\"},  \n",
    "]"
   ]
  },
  {
   "cell_type": "code",
   "execution_count": 3,
   "metadata": {
    "collapsed": true
   },
   "outputs": [],
   "source": [
    "template = env.get_template('fill_na_columns.sql')\n",
    "query = template.render(columns=column_name_dict)"
   ]
  },
  {
   "cell_type": "code",
   "execution_count": 4,
   "metadata": {},
   "outputs": [
    {
     "name": "stdout",
     "output_type": "stream",
     "text": [
      "SELECT id,\n",
      "       CASE\n",
      "           WHEN height IS NULL THEN 70\n",
      "           ELSE height\n",
      "       END AS height ,\n",
      "       is_male ,\n",
      "       CASE\n",
      "           WHEN weight IS NULL THEN 150\n",
      "           ELSE weight\n",
      "       END AS weight ,\n",
      "       age ,\n",
      "       eye_color\n",
      "FROM TABLE\n"
     ]
    }
   ],
   "source": [
    "pretty_sql = sqlparse.format(query,\n",
    "                reindent=True, \n",
    "                keyword_case='upper', \n",
    "                encoding='utf-8')\n",
    "\n",
    "print(pretty_sql)"
   ]
  },
  {
   "cell_type": "code",
   "execution_count": null,
   "metadata": {
    "collapsed": true
   },
   "outputs": [],
   "source": []
  }
 ],
 "metadata": {
  "kernelspec": {
   "display_name": "Python [conda root]",
   "language": "python",
   "name": "conda-root-py"
  },
  "language_info": {
   "codemirror_mode": {
    "name": "ipython",
    "version": 3
   },
   "file_extension": ".py",
   "mimetype": "text/x-python",
   "name": "python",
   "nbconvert_exporter": "python",
   "pygments_lexer": "ipython3",
   "version": "3.5.3"
  }
 },
 "nbformat": 4,
 "nbformat_minor": 2
}
